{
 "cells": [
  {
   "attachments": {},
   "cell_type": "markdown",
   "metadata": {},
   "source": [
    "# Data cleaning."
   ]
  },
  {
   "cell_type": "code",
   "execution_count": 1,
   "metadata": {},
   "outputs": [],
   "source": [
    "import pandas as pd"
   ]
  },
  {
   "attachments": {},
   "cell_type": "markdown",
   "metadata": {},
   "source": [
    "load extracted data"
   ]
  },
  {
   "cell_type": "code",
   "execution_count": 14,
   "metadata": {},
   "outputs": [],
   "source": [
    "cars = pd.read_csv(\"tucarro/data/cars.csv\")\n",
    "motors = pd.read_csv(\"tucarro/data/motor.csv\")"
   ]
  },
  {
   "cell_type": "code",
   "execution_count": 8,
   "metadata": {},
   "outputs": [
    {
     "data": {
      "text/html": [
       "<div>\n",
       "<style scoped>\n",
       "    .dataframe tbody tr th:only-of-type {\n",
       "        vertical-align: middle;\n",
       "    }\n",
       "\n",
       "    .dataframe tbody tr th {\n",
       "        vertical-align: top;\n",
       "    }\n",
       "\n",
       "    .dataframe thead th {\n",
       "        text-align: right;\n",
       "    }\n",
       "</style>\n",
       "<table border=\"1\" class=\"dataframe\">\n",
       "  <thead>\n",
       "    <tr style=\"text-align: right;\">\n",
       "      <th></th>\n",
       "      <th>name</th>\n",
       "      <th>generation</th>\n",
       "      <th>price</th>\n",
       "      <th>ubication</th>\n",
       "    </tr>\n",
       "  </thead>\n",
       "  <tbody>\n",
       "    <tr>\n",
       "      <th>0</th>\n",
       "      <td>Toyota Hilux 2.4 4x4 Diesel Full</td>\n",
       "      <td>2023</td>\n",
       "      <td>216500000 pesos</td>\n",
       "      <td>Usaquén - Bogotá D.C.</td>\n",
       "    </tr>\n",
       "    <tr>\n",
       "      <th>1</th>\n",
       "      <td>Trailer Remolque, Oficina Movil De Gran Capaci...</td>\n",
       "      <td>2024</td>\n",
       "      <td>35000000 pesos</td>\n",
       "      <td>Engativa - Bogotá D.C.</td>\n",
       "    </tr>\n",
       "    <tr>\n",
       "      <th>2</th>\n",
       "      <td>Toyota Land Cruiser 300 Gr-s 2023 B2+</td>\n",
       "      <td>2023</td>\n",
       "      <td>850000000 pesos</td>\n",
       "      <td>Medellín - Antioquia</td>\n",
       "    </tr>\n",
       "    <tr>\n",
       "      <th>3</th>\n",
       "      <td>Jac E10x Electrico</td>\n",
       "      <td>2023</td>\n",
       "      <td>104990000 pesos</td>\n",
       "      <td>Usaquén - Bogotá D.C.</td>\n",
       "    </tr>\n",
       "    <tr>\n",
       "      <th>4</th>\n",
       "      <td>Volkswagen Jetta 2.0 Gli</td>\n",
       "      <td>2023</td>\n",
       "      <td>159990000 pesos</td>\n",
       "      <td>Suba - Bogotá D.C.</td>\n",
       "    </tr>\n",
       "  </tbody>\n",
       "</table>\n",
       "</div>"
      ],
      "text/plain": [
       "                                                name  generation   \n",
       "0                   Toyota Hilux 2.4 4x4 Diesel Full        2023  \\\n",
       "1  Trailer Remolque, Oficina Movil De Gran Capaci...        2024   \n",
       "2              Toyota Land Cruiser 300 Gr-s 2023 B2+        2023   \n",
       "3                                 Jac E10x Electrico        2023   \n",
       "4                           Volkswagen Jetta 2.0 Gli        2023   \n",
       "\n",
       "             price               ubication  \n",
       "0  216500000 pesos   Usaquén - Bogotá D.C.  \n",
       "1   35000000 pesos  Engativa - Bogotá D.C.  \n",
       "2  850000000 pesos    Medellín - Antioquia  \n",
       "3  104990000 pesos   Usaquén - Bogotá D.C.  \n",
       "4  159990000 pesos      Suba - Bogotá D.C.  "
      ]
     },
     "execution_count": 8,
     "metadata": {},
     "output_type": "execute_result"
    }
   ],
   "source": [
    "cars.head()"
   ]
  },
  {
   "cell_type": "code",
   "execution_count": 9,
   "metadata": {},
   "outputs": [
    {
     "data": {
      "text/html": [
       "<div>\n",
       "<style scoped>\n",
       "    .dataframe tbody tr th:only-of-type {\n",
       "        vertical-align: middle;\n",
       "    }\n",
       "\n",
       "    .dataframe tbody tr th {\n",
       "        vertical-align: top;\n",
       "    }\n",
       "\n",
       "    .dataframe thead th {\n",
       "        text-align: right;\n",
       "    }\n",
       "</style>\n",
       "<table border=\"1\" class=\"dataframe\">\n",
       "  <thead>\n",
       "    <tr style=\"text-align: right;\">\n",
       "      <th></th>\n",
       "      <th>name</th>\n",
       "      <th>generation</th>\n",
       "      <th>price</th>\n",
       "      <th>ubication</th>\n",
       "    </tr>\n",
       "  </thead>\n",
       "  <tbody>\n",
       "    <tr>\n",
       "      <th>0</th>\n",
       "      <td>Pulsar N250 Fi Abs</td>\n",
       "      <td>2023</td>\n",
       "      <td>13750000 pesos</td>\n",
       "      <td>Antonio Nariño - Bogotá D.C.</td>\n",
       "    </tr>\n",
       "    <tr>\n",
       "      <th>1</th>\n",
       "      <td>Pulsar N250 Fi Abs</td>\n",
       "      <td>2023</td>\n",
       "      <td>13999000 pesos</td>\n",
       "      <td>Antonio Nariño - Bogotá D.C.</td>\n",
       "    </tr>\n",
       "    <tr>\n",
       "      <th>2</th>\n",
       "      <td>Pulsar N250</td>\n",
       "      <td>2023</td>\n",
       "      <td>13999000 pesos</td>\n",
       "      <td>Antonio Nariño - Bogotá D.C.</td>\n",
       "    </tr>\n",
       "    <tr>\n",
       "      <th>3</th>\n",
       "      <td>Pulsar Ns 200 Fi Abs</td>\n",
       "      <td>2023</td>\n",
       "      <td>13399000 pesos</td>\n",
       "      <td>Antonio Nariño - Bogotá D.C.</td>\n",
       "    </tr>\n",
       "    <tr>\n",
       "      <th>4</th>\n",
       "      <td>Pulsar Ns 200 Fi Pulsarmania</td>\n",
       "      <td>2023</td>\n",
       "      <td>12199000 pesos</td>\n",
       "      <td>Engativa - Bogotá D.C.</td>\n",
       "    </tr>\n",
       "  </tbody>\n",
       "</table>\n",
       "</div>"
      ],
      "text/plain": [
       "                           name  generation           price   \n",
       "0            Pulsar N250 Fi Abs        2023  13750000 pesos  \\\n",
       "1            Pulsar N250 Fi Abs        2023  13999000 pesos   \n",
       "2                   Pulsar N250        2023  13999000 pesos   \n",
       "3          Pulsar Ns 200 Fi Abs        2023  13399000 pesos   \n",
       "4  Pulsar Ns 200 Fi Pulsarmania        2023  12199000 pesos   \n",
       "\n",
       "                      ubication  \n",
       "0  Antonio Nariño - Bogotá D.C.  \n",
       "1  Antonio Nariño - Bogotá D.C.  \n",
       "2  Antonio Nariño - Bogotá D.C.  \n",
       "3  Antonio Nariño - Bogotá D.C.  \n",
       "4        Engativa - Bogotá D.C.  "
      ]
     },
     "execution_count": 9,
     "metadata": {},
     "output_type": "execute_result"
    }
   ],
   "source": [
    "motors.head()"
   ]
  },
  {
   "attachments": {},
   "cell_type": "markdown",
   "metadata": {},
   "source": [
    "Transformation of the cars dataframe"
   ]
  },
  {
   "cell_type": "code",
   "execution_count": 15,
   "metadata": {},
   "outputs": [],
   "source": [
    "cars[\"price\"] = cars.price.str.replace(\" pesos\", \"\")\n",
    "cars[\"price\"] = cars.price.str.replace(\"Antes: \", \"\")\n",
    "cars[[\"city\", \"departament\"]] = cars.ubication.str.split(\"-\", expand=True)\n",
    "cars.drop([\"ubication\"], axis=1, inplace=True)\n",
    "cars[\"price\"] = cars[\"price\"].astype(\"float64\")\n",
    "cars[\"generation\"] = cars[\"generation\"].astype(\"int\")"
   ]
  },
  {
   "cell_type": "code",
   "execution_count": 16,
   "metadata": {},
   "outputs": [
    {
     "data": {
      "text/html": [
       "<div>\n",
       "<style scoped>\n",
       "    .dataframe tbody tr th:only-of-type {\n",
       "        vertical-align: middle;\n",
       "    }\n",
       "\n",
       "    .dataframe tbody tr th {\n",
       "        vertical-align: top;\n",
       "    }\n",
       "\n",
       "    .dataframe thead th {\n",
       "        text-align: right;\n",
       "    }\n",
       "</style>\n",
       "<table border=\"1\" class=\"dataframe\">\n",
       "  <thead>\n",
       "    <tr style=\"text-align: right;\">\n",
       "      <th></th>\n",
       "      <th>name</th>\n",
       "      <th>generation</th>\n",
       "      <th>price</th>\n",
       "      <th>city</th>\n",
       "      <th>departament</th>\n",
       "    </tr>\n",
       "  </thead>\n",
       "  <tbody>\n",
       "    <tr>\n",
       "      <th>0</th>\n",
       "      <td>Toyota Hilux 2.4 4x4 Diesel Full</td>\n",
       "      <td>2023</td>\n",
       "      <td>216500000.0</td>\n",
       "      <td>Usaquén</td>\n",
       "      <td>Bogotá D.C.</td>\n",
       "    </tr>\n",
       "    <tr>\n",
       "      <th>1</th>\n",
       "      <td>Trailer Remolque, Oficina Movil De Gran Capaci...</td>\n",
       "      <td>2024</td>\n",
       "      <td>35000000.0</td>\n",
       "      <td>Engativa</td>\n",
       "      <td>Bogotá D.C.</td>\n",
       "    </tr>\n",
       "    <tr>\n",
       "      <th>2</th>\n",
       "      <td>Toyota Land Cruiser 300 Gr-s 2023 B2+</td>\n",
       "      <td>2023</td>\n",
       "      <td>850000000.0</td>\n",
       "      <td>Medellín</td>\n",
       "      <td>Antioquia</td>\n",
       "    </tr>\n",
       "    <tr>\n",
       "      <th>3</th>\n",
       "      <td>Jac E10x Electrico</td>\n",
       "      <td>2023</td>\n",
       "      <td>104990000.0</td>\n",
       "      <td>Usaquén</td>\n",
       "      <td>Bogotá D.C.</td>\n",
       "    </tr>\n",
       "    <tr>\n",
       "      <th>4</th>\n",
       "      <td>Volkswagen Jetta 2.0 Gli</td>\n",
       "      <td>2023</td>\n",
       "      <td>159990000.0</td>\n",
       "      <td>Suba</td>\n",
       "      <td>Bogotá D.C.</td>\n",
       "    </tr>\n",
       "  </tbody>\n",
       "</table>\n",
       "</div>"
      ],
      "text/plain": [
       "                                                name  generation        price   \n",
       "0                   Toyota Hilux 2.4 4x4 Diesel Full        2023  216500000.0  \\\n",
       "1  Trailer Remolque, Oficina Movil De Gran Capaci...        2024   35000000.0   \n",
       "2              Toyota Land Cruiser 300 Gr-s 2023 B2+        2023  850000000.0   \n",
       "3                                 Jac E10x Electrico        2023  104990000.0   \n",
       "4                           Volkswagen Jetta 2.0 Gli        2023  159990000.0   \n",
       "\n",
       "        city   departament  \n",
       "0   Usaquén    Bogotá D.C.  \n",
       "1  Engativa    Bogotá D.C.  \n",
       "2  Medellín      Antioquia  \n",
       "3   Usaquén    Bogotá D.C.  \n",
       "4      Suba    Bogotá D.C.  "
      ]
     },
     "execution_count": 16,
     "metadata": {},
     "output_type": "execute_result"
    }
   ],
   "source": [
    "cars.head()"
   ]
  },
  {
   "cell_type": "code",
   "execution_count": 17,
   "metadata": {},
   "outputs": [
    {
     "name": "stdout",
     "output_type": "stream",
     "text": [
      "<class 'pandas.core.frame.DataFrame'>\n",
      "RangeIndex: 2016 entries, 0 to 2015\n",
      "Data columns (total 5 columns):\n",
      " #   Column       Non-Null Count  Dtype  \n",
      "---  ------       --------------  -----  \n",
      " 0   name         2016 non-null   object \n",
      " 1   generation   2016 non-null   int64  \n",
      " 2   price        2016 non-null   float64\n",
      " 3   city         2016 non-null   object \n",
      " 4   departament  2016 non-null   object \n",
      "dtypes: float64(1), int64(1), object(3)\n",
      "memory usage: 78.9+ KB\n"
     ]
    }
   ],
   "source": [
    "cars.info()"
   ]
  },
  {
   "attachments": {},
   "cell_type": "markdown",
   "metadata": {},
   "source": [
    "Transformation of the motors dataframe"
   ]
  },
  {
   "cell_type": "code",
   "execution_count": 18,
   "metadata": {},
   "outputs": [],
   "source": [
    "motors[\"price\"] = motors.price.str.replace(\" pesos\", \"\")\n",
    "motors[[\"city\", \"departament\"]] = motors.ubication.str.split(\"-\", expand=True)\n",
    "motors.drop([\"ubication\"], axis=1, inplace=True)\n",
    "motors[\"price\"] = motors[\"price\"].astype(\"float64\")\n",
    "motors[\"generation\"] = motors[\"generation\"].astype(\"int\")"
   ]
  },
  {
   "cell_type": "code",
   "execution_count": 19,
   "metadata": {},
   "outputs": [
    {
     "data": {
      "text/html": [
       "<div>\n",
       "<style scoped>\n",
       "    .dataframe tbody tr th:only-of-type {\n",
       "        vertical-align: middle;\n",
       "    }\n",
       "\n",
       "    .dataframe tbody tr th {\n",
       "        vertical-align: top;\n",
       "    }\n",
       "\n",
       "    .dataframe thead th {\n",
       "        text-align: right;\n",
       "    }\n",
       "</style>\n",
       "<table border=\"1\" class=\"dataframe\">\n",
       "  <thead>\n",
       "    <tr style=\"text-align: right;\">\n",
       "      <th></th>\n",
       "      <th>name</th>\n",
       "      <th>generation</th>\n",
       "      <th>price</th>\n",
       "      <th>city</th>\n",
       "      <th>departament</th>\n",
       "    </tr>\n",
       "  </thead>\n",
       "  <tbody>\n",
       "    <tr>\n",
       "      <th>0</th>\n",
       "      <td>Pulsar N250 Fi Abs</td>\n",
       "      <td>2023</td>\n",
       "      <td>13750000.0</td>\n",
       "      <td>Antonio Nariño</td>\n",
       "      <td>Bogotá D.C.</td>\n",
       "    </tr>\n",
       "    <tr>\n",
       "      <th>1</th>\n",
       "      <td>Pulsar N250 Fi Abs</td>\n",
       "      <td>2023</td>\n",
       "      <td>13999000.0</td>\n",
       "      <td>Antonio Nariño</td>\n",
       "      <td>Bogotá D.C.</td>\n",
       "    </tr>\n",
       "    <tr>\n",
       "      <th>2</th>\n",
       "      <td>Pulsar N250</td>\n",
       "      <td>2023</td>\n",
       "      <td>13999000.0</td>\n",
       "      <td>Antonio Nariño</td>\n",
       "      <td>Bogotá D.C.</td>\n",
       "    </tr>\n",
       "    <tr>\n",
       "      <th>3</th>\n",
       "      <td>Pulsar Ns 200 Fi Abs</td>\n",
       "      <td>2023</td>\n",
       "      <td>13399000.0</td>\n",
       "      <td>Antonio Nariño</td>\n",
       "      <td>Bogotá D.C.</td>\n",
       "    </tr>\n",
       "    <tr>\n",
       "      <th>4</th>\n",
       "      <td>Pulsar Ns 200 Fi Pulsarmania</td>\n",
       "      <td>2023</td>\n",
       "      <td>12199000.0</td>\n",
       "      <td>Engativa</td>\n",
       "      <td>Bogotá D.C.</td>\n",
       "    </tr>\n",
       "  </tbody>\n",
       "</table>\n",
       "</div>"
      ],
      "text/plain": [
       "                           name  generation       price             city   \n",
       "0            Pulsar N250 Fi Abs        2023  13750000.0  Antonio Nariño   \\\n",
       "1            Pulsar N250 Fi Abs        2023  13999000.0  Antonio Nariño    \n",
       "2                   Pulsar N250        2023  13999000.0  Antonio Nariño    \n",
       "3          Pulsar Ns 200 Fi Abs        2023  13399000.0  Antonio Nariño    \n",
       "4  Pulsar Ns 200 Fi Pulsarmania        2023  12199000.0        Engativa    \n",
       "\n",
       "    departament  \n",
       "0   Bogotá D.C.  \n",
       "1   Bogotá D.C.  \n",
       "2   Bogotá D.C.  \n",
       "3   Bogotá D.C.  \n",
       "4   Bogotá D.C.  "
      ]
     },
     "execution_count": 19,
     "metadata": {},
     "output_type": "execute_result"
    }
   ],
   "source": [
    "motors.head()"
   ]
  },
  {
   "cell_type": "code",
   "execution_count": 20,
   "metadata": {},
   "outputs": [
    {
     "name": "stdout",
     "output_type": "stream",
     "text": [
      "<class 'pandas.core.frame.DataFrame'>\n",
      "RangeIndex: 967 entries, 0 to 966\n",
      "Data columns (total 5 columns):\n",
      " #   Column       Non-Null Count  Dtype  \n",
      "---  ------       --------------  -----  \n",
      " 0   name         967 non-null    object \n",
      " 1   generation   967 non-null    int64  \n",
      " 2   price        967 non-null    float64\n",
      " 3   city         967 non-null    object \n",
      " 4   departament  967 non-null    object \n",
      "dtypes: float64(1), int64(1), object(3)\n",
      "memory usage: 37.9+ KB\n"
     ]
    }
   ],
   "source": [
    "motors.info()"
   ]
  },
  {
   "attachments": {},
   "cell_type": "markdown",
   "metadata": {},
   "source": [
    "export the data"
   ]
  },
  {
   "cell_type": "code",
   "execution_count": 21,
   "metadata": {},
   "outputs": [],
   "source": [
    "cars.to_csv(\"clean_data/new_cars.csv\", index=False)\n",
    "motors.to_csv(\"clean_data/new_motors.csv\", index=False)"
   ]
  }
 ],
 "metadata": {
  "kernelspec": {
   "display_name": "venv",
   "language": "python",
   "name": "python3"
  },
  "language_info": {
   "codemirror_mode": {
    "name": "ipython",
    "version": 3
   },
   "file_extension": ".py",
   "mimetype": "text/x-python",
   "name": "python",
   "nbconvert_exporter": "python",
   "pygments_lexer": "ipython3",
   "version": "3.10.6"
  },
  "orig_nbformat": 4
 },
 "nbformat": 4,
 "nbformat_minor": 2
}
